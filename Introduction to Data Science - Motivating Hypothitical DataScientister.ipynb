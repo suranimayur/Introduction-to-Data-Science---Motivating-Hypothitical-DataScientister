{
 "cells": [
  {
   "cell_type": "markdown",
   "id": "dcda8616",
   "metadata": {},
   "source": [
    "## Let us list user name"
   ]
  },
  {
   "cell_type": "code",
   "execution_count": 1,
   "id": "7d92e192",
   "metadata": {},
   "outputs": [],
   "source": [
    "users = [\n",
    "{ \"id\": 0, \"name\": \"Hero\" },\n",
    "{ \"id\": 1, \"name\": \"Dunn\" },\n",
    "{ \"id\": 2, \"name\": \"Sue\" },\n",
    "{ \"id\": 3, \"name\": \"Chi\" },\n",
    "{ \"id\": 4, \"name\": \"Thor\" },\n",
    "{ \"id\": 5, \"name\": \"Clive\" },\n",
    "{ \"id\": 6, \"name\": \"Hicks\" },\n",
    "{ \"id\": 7, \"name\": \"Devin\" },\n",
    "{ \"id\": 8, \"name\": \"Kate\" },\n",
    "{ \"id\": 9, \"name\": \"Klein\" }\n",
    "]"
   ]
  },
  {
   "cell_type": "markdown",
   "id": "92b6cc99",
   "metadata": {},
   "source": [
    "## Let us list Friendship Pair"
   ]
  },
  {
   "cell_type": "code",
   "execution_count": 2,
   "id": "4c155b4b",
   "metadata": {},
   "outputs": [],
   "source": [
    "friendship_pairs = [(0, 1), (0, 2), (1, 2), (1, 3), (2, 3), (3, 4),\n",
    "(4, 5), (5, 6), (5, 7), (6, 8), (7, 8), (8, 9)]"
   ]
  },
  {
   "cell_type": "markdown",
   "id": "54bf45b2",
   "metadata": {},
   "source": [
    "## Your job is to find friend conntector"
   ]
  },
  {
   "cell_type": "code",
   "execution_count": 4,
   "id": "95960c4d",
   "metadata": {},
   "outputs": [
    {
     "data": {
      "text/plain": [
       "[{'id': 0, 'name': 'Hero'},\n",
       " {'id': 1, 'name': 'Dunn'},\n",
       " {'id': 2, 'name': 'Sue'},\n",
       " {'id': 3, 'name': 'Chi'},\n",
       " {'id': 4, 'name': 'Thor'},\n",
       " {'id': 5, 'name': 'Clive'},\n",
       " {'id': 6, 'name': 'Hicks'},\n",
       " {'id': 7, 'name': 'Devin'},\n",
       " {'id': 8, 'name': 'Kate'},\n",
       " {'id': 9, 'name': 'Klein'}]"
      ]
     },
     "execution_count": 4,
     "metadata": {},
     "output_type": "execute_result"
    }
   ],
   "source": [
    "users"
   ]
  },
  {
   "cell_type": "code",
   "execution_count": 6,
   "id": "e64dc932",
   "metadata": {},
   "outputs": [
    {
     "data": {
      "text/plain": [
       "[(0, 1),\n",
       " (0, 2),\n",
       " (1, 2),\n",
       " (1, 3),\n",
       " (2, 3),\n",
       " (3, 4),\n",
       " (4, 5),\n",
       " (5, 6),\n",
       " (5, 7),\n",
       " (6, 8),\n",
       " (7, 8),\n",
       " (8, 9)]"
      ]
     },
     "execution_count": 6,
     "metadata": {},
     "output_type": "execute_result"
    }
   ],
   "source": [
    "friendship_pairs"
   ]
  },
  {
   "cell_type": "code",
   "execution_count": 3,
   "id": "3ac4ba04",
   "metadata": {},
   "outputs": [],
   "source": [
    "## Initialize tge dic with empty list for user id:\n",
    "\n",
    "friendships = {user[\"id\"]:[] for user in users}"
   ]
  },
  {
   "cell_type": "code",
   "execution_count": 7,
   "id": "0b6b88cc",
   "metadata": {},
   "outputs": [],
   "source": [
    "## Loop over friendship pair to populate it:\n",
    "\n",
    "for i , j in friendship_pairs:\n",
    "    friendships[i].append(j) ## Add J as friend of user i\n",
    "    friendships[j].append(i) ## Add i as friend of user J\n",
    "    "
   ]
  },
  {
   "cell_type": "code",
   "execution_count": 8,
   "id": "0aec2cdd",
   "metadata": {},
   "outputs": [
    {
     "data": {
      "text/plain": [
       "{0: [1, 2],\n",
       " 1: [0, 2, 3],\n",
       " 2: [0, 1, 3],\n",
       " 3: [1, 2, 4],\n",
       " 4: [3, 5],\n",
       " 5: [4, 6, 7],\n",
       " 6: [5, 8],\n",
       " 7: [5, 8],\n",
       " 8: [6, 7, 9],\n",
       " 9: [8]}"
      ]
     },
     "execution_count": 8,
     "metadata": {},
     "output_type": "execute_result"
    }
   ],
   "source": [
    "friendships"
   ]
  },
  {
   "cell_type": "markdown",
   "id": "d053c2c2",
   "metadata": {},
   "source": [
    " we find the total number of connections, by summing up the lengths of all the\n",
    "friends lists:"
   ]
  },
  {
   "cell_type": "code",
   "execution_count": 9,
   "id": "90b3c6f7",
   "metadata": {},
   "outputs": [],
   "source": [
    "def number_of_friends(user):\n",
    "    \" How many friends does user has\"\n",
    "    user_id = user[\"id\"]\n",
    "    friend_ids = friendships[user_id]\n",
    "    \n",
    "    return len(friend_ids)"
   ]
  },
  {
   "cell_type": "code",
   "execution_count": 10,
   "id": "69626cff",
   "metadata": {},
   "outputs": [],
   "source": [
    "total_connections = sum(number_of_friends(user) for user in users)"
   ]
  },
  {
   "cell_type": "code",
   "execution_count": 11,
   "id": "148d3d54",
   "metadata": {},
   "outputs": [
    {
     "data": {
      "text/plain": [
       "24"
      ]
     },
     "execution_count": 11,
     "metadata": {},
     "output_type": "execute_result"
    }
   ],
   "source": [
    "total_connections"
   ]
  },
  {
   "cell_type": "code",
   "execution_count": 12,
   "id": "3d6ba5e5",
   "metadata": {},
   "outputs": [],
   "source": [
    "num_users = len(users)"
   ]
  },
  {
   "cell_type": "code",
   "execution_count": 13,
   "id": "14789e57",
   "metadata": {},
   "outputs": [
    {
     "data": {
      "text/plain": [
       "10"
      ]
     },
     "execution_count": 13,
     "metadata": {},
     "output_type": "execute_result"
    }
   ],
   "source": [
    "num_users"
   ]
  },
  {
   "cell_type": "code",
   "execution_count": 14,
   "id": "ca34590c",
   "metadata": {},
   "outputs": [
    {
     "data": {
      "text/plain": [
       "2.4"
      ]
     },
     "execution_count": 14,
     "metadata": {},
     "output_type": "execute_result"
    }
   ],
   "source": [
    "average_connections = total_connections/num_users\n",
    "average_connections"
   ]
  },
  {
   "cell_type": "markdown",
   "id": "6fcdfbb7",
   "metadata": {},
   "source": [
    "## Let us sort by Most Friends to Least Friends"
   ]
  },
  {
   "cell_type": "code",
   "execution_count": 15,
   "id": "fae19eee",
   "metadata": {},
   "outputs": [
    {
     "data": {
      "text/plain": [
       "[(0, 2),\n",
       " (1, 3),\n",
       " (2, 3),\n",
       " (3, 3),\n",
       " (4, 2),\n",
       " (5, 3),\n",
       " (6, 2),\n",
       " (7, 2),\n",
       " (8, 3),\n",
       " (9, 1)]"
      ]
     },
     "execution_count": 15,
     "metadata": {},
     "output_type": "execute_result"
    }
   ],
   "source": [
    "## Create a list(user_id, no_of_friends)\n",
    "\n",
    "num_friends_by_id = [(user[\"id\"],number_of_friends(user)) for user in users]\n",
    "num_friends_by_id"
   ]
  },
  {
   "cell_type": "code",
   "execution_count": 16,
   "id": "a69e75d2",
   "metadata": {},
   "outputs": [],
   "source": [
    "num_friends_by_id.sort(key=lambda id_and_friends: id_and_friends[1],\n",
    "                      reverse=True)\n"
   ]
  },
  {
   "cell_type": "code",
   "execution_count": 17,
   "id": "3451e301",
   "metadata": {},
   "outputs": [
    {
     "data": {
      "text/plain": [
       "[(1, 3),\n",
       " (2, 3),\n",
       " (3, 3),\n",
       " (5, 3),\n",
       " (8, 3),\n",
       " (0, 2),\n",
       " (4, 2),\n",
       " (6, 2),\n",
       " (7, 2),\n",
       " (9, 1)]"
      ]
     },
     "execution_count": 17,
     "metadata": {},
     "output_type": "execute_result"
    }
   ],
   "source": [
    "num_friends_by_id"
   ]
  },
  {
   "cell_type": "markdown",
   "id": "63936e96",
   "metadata": {},
   "source": [
    "### Further , Check friend's friend you might know like fb insta"
   ]
  },
  {
   "cell_type": "code",
   "execution_count": 18,
   "id": "62b3194b",
   "metadata": {},
   "outputs": [],
   "source": [
    "def foaf_ids_bad(user):\n",
    "    return [foaf_id\n",
    "           for friend_id in friendships[user[\"id\"]]\n",
    "           for foaf_id in friendships[friend_id]]"
   ]
  },
  {
   "cell_type": "code",
   "execution_count": 20,
   "id": "db787df4",
   "metadata": {},
   "outputs": [
    {
     "data": {
      "text/plain": [
       "[0, 2, 3, 0, 1, 3]"
      ]
     },
     "execution_count": 20,
     "metadata": {},
     "output_type": "execute_result"
    }
   ],
   "source": [
    "foaf_ids_bad(users[0])"
   ]
  },
  {
   "cell_type": "code",
   "execution_count": 25,
   "id": "809fb2bf",
   "metadata": {},
   "outputs": [
    {
     "data": {
      "text/plain": [
       "{0: [1, 2],\n",
       " 1: [0, 2, 3],\n",
       " 2: [0, 1, 3],\n",
       " 3: [1, 2, 4],\n",
       " 4: [3, 5],\n",
       " 5: [4, 6, 7],\n",
       " 6: [5, 8],\n",
       " 7: [5, 8],\n",
       " 8: [6, 7, 9],\n",
       " 9: [8]}"
      ]
     },
     "execution_count": 25,
     "metadata": {},
     "output_type": "execute_result"
    }
   ],
   "source": [
    "friendships"
   ]
  },
  {
   "cell_type": "code",
   "execution_count": 26,
   "id": "40ae3c5e",
   "metadata": {},
   "outputs": [
    {
     "name": "stdout",
     "output_type": "stream",
     "text": [
      "[1, 2]\n"
     ]
    }
   ],
   "source": [
    "print(friendships[0])"
   ]
  },
  {
   "cell_type": "code",
   "execution_count": 27,
   "id": "d5c548f2",
   "metadata": {},
   "outputs": [
    {
     "name": "stdout",
     "output_type": "stream",
     "text": [
      "[0, 2, 3]\n"
     ]
    }
   ],
   "source": [
    "print(friendships[1])"
   ]
  },
  {
   "cell_type": "code",
   "execution_count": 28,
   "id": "39ac9d05",
   "metadata": {},
   "outputs": [
    {
     "name": "stdout",
     "output_type": "stream",
     "text": [
      "[0, 1, 3]\n"
     ]
    }
   ],
   "source": [
    "print(friendships[2])"
   ]
  },
  {
   "cell_type": "markdown",
   "id": "ebefbc15",
   "metadata": {},
   "source": [
    "Knowing that people are friends of friends in multiple ways seems like interesting\n",
    "information, so maybe instead we should produce a count of mutual friends. And we\n",
    "should probably exclude people already known to the user:"
   ]
  },
  {
   "cell_type": "code",
   "execution_count": 29,
   "id": "f2f45112",
   "metadata": {},
   "outputs": [],
   "source": [
    "from collections import Counter"
   ]
  },
  {
   "cell_type": "code",
   "execution_count": 30,
   "id": "1ee793c2",
   "metadata": {},
   "outputs": [],
   "source": [
    "def friends_of_friends(user):\n",
    "    user_id = user[\"id\"]\n",
    "    return Counter(\n",
    "    foaf_id\n",
    "        for friend_id in friendships[user_id]\n",
    "        for foaf_id in friendships[friend_id]\n",
    "        if foaf_id != user_id\n",
    "        and foaf_id not in friendships[user_id]\n",
    "    )"
   ]
  },
  {
   "cell_type": "code",
   "execution_count": 32,
   "id": "ff0f8107",
   "metadata": {},
   "outputs": [
    {
     "name": "stdout",
     "output_type": "stream",
     "text": [
      "Counter({0: 2, 5: 1})\n"
     ]
    }
   ],
   "source": [
    "print(friends_of_friends(users[3]))"
   ]
  },
  {
   "cell_type": "code",
   "execution_count": 33,
   "id": "172c356a",
   "metadata": {},
   "outputs": [],
   "source": [
    "interests = [\n",
    "(0, \"Hadoop\"), (0, \"Big Data\"), (0, \"HBase\"), (0, \"Java\"),\n",
    "(0, \"Spark\"), (0, \"Storm\"), (0, \"Cassandra\"),\n",
    "(1, \"NoSQL\"), (1, \"MongoDB\"), (1, \"Cassandra\"), (1, \"HBase\"),\n",
    "(1, \"Postgres\"), (2, \"Python\"), (2, \"scikit-learn\"), (2, \"scipy\"),\n",
    "(2, \"numpy\"), (2, \"statsmodels\"), (2, \"pandas\"), (3, \"R\"), (3, \"Python\"),\n",
    "(3, \"statistics\"), (3, \"regression\"), (3, \"probability\"),\n",
    "(4, \"machine learning\"), (4, \"regression\"), (4, \"decision trees\"),\n",
    "(4, \"libsvm\"), (5, \"Python\"), (5, \"R\"), (5, \"Java\"), (5, \"C++\"),\n",
    "(5, \"Haskell\"), (5, \"programming languages\"), (6, \"statistics\"),\n",
    "(6, \"probability\"), (6, \"mathematics\"), (6, \"theory\"),\n",
    "(7, \"machine learning\"), (7, \"scikit-learn\"), (7, \"Mahout\"),\n",
    "(7, \"neural networks\"), (8, \"neural networks\"), (8, \"deep learning\"),\n",
    "(8, \"Big Data\"), (8, \"artificial intelligence\"), (9, \"Hadoop\"),\n",
    "(9, \"Java\"), (9, \"MapReduce\"), (9, \"Big Data\")\n",
    "]"
   ]
  },
  {
   "cell_type": "code",
   "execution_count": 34,
   "id": "73bf1135",
   "metadata": {},
   "outputs": [
    {
     "data": {
      "text/plain": [
       "[(0, 'Hadoop'),\n",
       " (0, 'Big Data'),\n",
       " (0, 'HBase'),\n",
       " (0, 'Java'),\n",
       " (0, 'Spark'),\n",
       " (0, 'Storm'),\n",
       " (0, 'Cassandra'),\n",
       " (1, 'NoSQL'),\n",
       " (1, 'MongoDB'),\n",
       " (1, 'Cassandra'),\n",
       " (1, 'HBase'),\n",
       " (1, 'Postgres'),\n",
       " (2, 'Python'),\n",
       " (2, 'scikit-learn'),\n",
       " (2, 'scipy'),\n",
       " (2, 'numpy'),\n",
       " (2, 'statsmodels'),\n",
       " (2, 'pandas'),\n",
       " (3, 'R'),\n",
       " (3, 'Python'),\n",
       " (3, 'statistics'),\n",
       " (3, 'regression'),\n",
       " (3, 'probability'),\n",
       " (4, 'machine learning'),\n",
       " (4, 'regression'),\n",
       " (4, 'decision trees'),\n",
       " (4, 'libsvm'),\n",
       " (5, 'Python'),\n",
       " (5, 'R'),\n",
       " (5, 'Java'),\n",
       " (5, 'C++'),\n",
       " (5, 'Haskell'),\n",
       " (5, 'programming languages'),\n",
       " (6, 'statistics'),\n",
       " (6, 'probability'),\n",
       " (6, 'mathematics'),\n",
       " (6, 'theory'),\n",
       " (7, 'machine learning'),\n",
       " (7, 'scikit-learn'),\n",
       " (7, 'Mahout'),\n",
       " (7, 'neural networks'),\n",
       " (8, 'neural networks'),\n",
       " (8, 'deep learning'),\n",
       " (8, 'Big Data'),\n",
       " (8, 'artificial intelligence'),\n",
       " (9, 'Hadoop'),\n",
       " (9, 'Java'),\n",
       " (9, 'MapReduce'),\n",
       " (9, 'Big Data')]"
      ]
     },
     "execution_count": 34,
     "metadata": {},
     "output_type": "execute_result"
    }
   ],
   "source": [
    "interests"
   ]
  },
  {
   "cell_type": "markdown",
   "id": "31fb9c52",
   "metadata": {},
   "source": [
    "## Create function with similar interest"
   ]
  },
  {
   "cell_type": "code",
   "execution_count": 35,
   "id": "92f7d1ac",
   "metadata": {},
   "outputs": [],
   "source": [
    "def data_scientists_who_like(target_interest):\n",
    "    \"\"\" Find IDS of all interests who like target interest\"\"\"\n",
    "    \n",
    "    return [user_id\n",
    "           for user_id,user_interest in interests\n",
    "           if user_interest==target_interest]"
   ]
  },
  {
   "cell_type": "code",
   "execution_count": 36,
   "id": "44b6711f",
   "metadata": {},
   "outputs": [],
   "source": [
    "from collections import defaultdict"
   ]
  },
  {
   "cell_type": "code",
   "execution_count": 40,
   "id": "3d637cd6",
   "metadata": {},
   "outputs": [],
   "source": [
    "## Keys are interests , values are list of user_ids with that interest\n",
    "\n",
    "user_ids_by_interests = defaultdict(list)"
   ]
  },
  {
   "cell_type": "code",
   "execution_count": 41,
   "id": "5f3b6c92",
   "metadata": {},
   "outputs": [
    {
     "data": {
      "text/plain": [
       "defaultdict(list, {})"
      ]
     },
     "execution_count": 41,
     "metadata": {},
     "output_type": "execute_result"
    }
   ],
   "source": [
    "user_ids_by_interests"
   ]
  },
  {
   "cell_type": "code",
   "execution_count": 42,
   "id": "534ffc32",
   "metadata": {},
   "outputs": [],
   "source": [
    "for user_id, interest in interests:\n",
    "    user_ids_by_interests[interest].append(user_id)"
   ]
  },
  {
   "cell_type": "code",
   "execution_count": 43,
   "id": "ce82df3b",
   "metadata": {},
   "outputs": [
    {
     "data": {
      "text/plain": [
       "defaultdict(list,\n",
       "            {'Hadoop': [0, 9],\n",
       "             'Big Data': [0, 8, 9],\n",
       "             'HBase': [0, 1],\n",
       "             'Java': [0, 5, 9],\n",
       "             'Spark': [0],\n",
       "             'Storm': [0],\n",
       "             'Cassandra': [0, 1],\n",
       "             'NoSQL': [1],\n",
       "             'MongoDB': [1],\n",
       "             'Postgres': [1],\n",
       "             'Python': [2, 3, 5],\n",
       "             'scikit-learn': [2, 7],\n",
       "             'scipy': [2],\n",
       "             'numpy': [2],\n",
       "             'statsmodels': [2],\n",
       "             'pandas': [2],\n",
       "             'R': [3, 5],\n",
       "             'statistics': [3, 6],\n",
       "             'regression': [3, 4],\n",
       "             'probability': [3, 6],\n",
       "             'machine learning': [4, 7],\n",
       "             'decision trees': [4],\n",
       "             'libsvm': [4],\n",
       "             'C++': [5],\n",
       "             'Haskell': [5],\n",
       "             'programming languages': [5],\n",
       "             'mathematics': [6],\n",
       "             'theory': [6],\n",
       "             'Mahout': [7],\n",
       "             'neural networks': [7, 8],\n",
       "             'deep learning': [8],\n",
       "             'artificial intelligence': [8],\n",
       "             'MapReduce': [9]})"
      ]
     },
     "execution_count": 43,
     "metadata": {},
     "output_type": "execute_result"
    }
   ],
   "source": [
    "user_ids_by_interests"
   ]
  },
  {
   "cell_type": "code",
   "execution_count": 44,
   "id": "a0119f95",
   "metadata": {},
   "outputs": [],
   "source": [
    "## Keys are user_ids and values are list of interests for that user ids\n",
    "interests_by_user_id = defaultdict(list)\n",
    "\n",
    "for user_id,interest in interests:\n",
    "    interests_by_user_id[user_id].append(interest)"
   ]
  },
  {
   "cell_type": "code",
   "execution_count": 45,
   "id": "ac2209dc",
   "metadata": {},
   "outputs": [
    {
     "data": {
      "text/plain": [
       "defaultdict(list,\n",
       "            {0: ['Hadoop',\n",
       "              'Big Data',\n",
       "              'HBase',\n",
       "              'Java',\n",
       "              'Spark',\n",
       "              'Storm',\n",
       "              'Cassandra'],\n",
       "             1: ['NoSQL', 'MongoDB', 'Cassandra', 'HBase', 'Postgres'],\n",
       "             2: ['Python',\n",
       "              'scikit-learn',\n",
       "              'scipy',\n",
       "              'numpy',\n",
       "              'statsmodels',\n",
       "              'pandas'],\n",
       "             3: ['R', 'Python', 'statistics', 'regression', 'probability'],\n",
       "             4: ['machine learning', 'regression', 'decision trees', 'libsvm'],\n",
       "             5: ['Python',\n",
       "              'R',\n",
       "              'Java',\n",
       "              'C++',\n",
       "              'Haskell',\n",
       "              'programming languages'],\n",
       "             6: ['statistics', 'probability', 'mathematics', 'theory'],\n",
       "             7: ['machine learning',\n",
       "              'scikit-learn',\n",
       "              'Mahout',\n",
       "              'neural networks'],\n",
       "             8: ['neural networks',\n",
       "              'deep learning',\n",
       "              'Big Data',\n",
       "              'artificial intelligence'],\n",
       "             9: ['Hadoop', 'Java', 'MapReduce', 'Big Data']})"
      ]
     },
     "execution_count": 45,
     "metadata": {},
     "output_type": "execute_result"
    }
   ],
   "source": [
    "interests_by_user_id"
   ]
  },
  {
   "cell_type": "markdown",
   "id": "931d8ba7",
   "metadata": {},
   "source": [
    "Now it’s easy to find who has the most interests in common with a given user:\n"
   ]
  },
  {
   "cell_type": "code",
   "execution_count": 46,
   "id": "e657ae56",
   "metadata": {},
   "outputs": [],
   "source": [
    "def most_common_interests_with(user):\n",
    "    return Counter(\n",
    "    interests_by_user_id\n",
    "        for interest in interests_by_user_id[user[\"id\"]]\n",
    "        for interests_by_user_id in user_ids_by_interests[interest]\n",
    "        if interests_by_user_id != user[\"id\"]\n",
    "    )"
   ]
  },
  {
   "cell_type": "markdown",
   "id": "067e5d76",
   "metadata": {},
   "source": [
    "## Data Scientist Salary and Experience"
   ]
  },
  {
   "cell_type": "code",
   "execution_count": 49,
   "id": "ea9eadc8",
   "metadata": {},
   "outputs": [],
   "source": [
    "salaries_and_tenures = [(83000, 8.7), (88000, 8.1),\n",
    "                        (48000, 0.7), (76000, 6),\n",
    "                        (69000, 6.5), (76000, 7.5),\n",
    "                        (60000, 2.5), (83000, 10),\n",
    "                        (48000, 1.9), (63000, 4.2)]"
   ]
  },
  {
   "cell_type": "code",
   "execution_count": 69,
   "id": "4f01e053",
   "metadata": {},
   "outputs": [
    {
     "data": {
      "text/plain": [
       "[(83000, 8.7),\n",
       " (88000, 8.1),\n",
       " (48000, 0.7),\n",
       " (76000, 6),\n",
       " (69000, 6.5),\n",
       " (76000, 7.5),\n",
       " (60000, 2.5),\n",
       " (83000, 10),\n",
       " (48000, 1.9),\n",
       " (63000, 4.2)]"
      ]
     },
     "execution_count": 69,
     "metadata": {},
     "output_type": "execute_result"
    }
   ],
   "source": [
    "salaries_and_tenures"
   ]
  },
  {
   "cell_type": "code",
   "execution_count": 52,
   "id": "b30f9e4c",
   "metadata": {},
   "outputs": [],
   "source": [
    "import matplotlib.pyplot as plt"
   ]
  },
  {
   "cell_type": "code",
   "execution_count": 70,
   "id": "fb430e0c",
   "metadata": {},
   "outputs": [],
   "source": [
    "## Keys are Years, values are lsit of salary for each Tenure\n",
    "\n",
    "salary_by_tenure = defaultdict(list)\n",
    "\n",
    "\n",
    "for salary,tenure in salaries_and_tenures:\n",
    "    salary_by_tenure[tenure].append(salary)"
   ]
  },
  {
   "cell_type": "code",
   "execution_count": 71,
   "id": "4550fb75",
   "metadata": {},
   "outputs": [
    {
     "data": {
      "text/plain": [
       "defaultdict(list,\n",
       "            {8.7: [83000],\n",
       "             8.1: [88000],\n",
       "             0.7: [48000],\n",
       "             6: [76000],\n",
       "             6.5: [69000],\n",
       "             7.5: [76000],\n",
       "             2.5: [60000],\n",
       "             10: [83000],\n",
       "             1.9: [48000],\n",
       "             4.2: [63000]})"
      ]
     },
     "execution_count": 71,
     "metadata": {},
     "output_type": "execute_result"
    }
   ],
   "source": [
    "salary_by_tenure"
   ]
  },
  {
   "cell_type": "code",
   "execution_count": 72,
   "id": "8e83f881",
   "metadata": {},
   "outputs": [],
   "source": [
    "## Keys are years, each value is average salary for that Tenure\n",
    "\n",
    "average_salary_by_tenure = {\n",
    "    tenure:sum(salaries) /len(salaries)\n",
    "    for tenure,salaries in salary_by_tenure.items()\n",
    "}"
   ]
  },
  {
   "cell_type": "code",
   "execution_count": 73,
   "id": "e89ad44c",
   "metadata": {},
   "outputs": [
    {
     "data": {
      "text/plain": [
       "{8.7: 83000.0,\n",
       " 8.1: 88000.0,\n",
       " 0.7: 48000.0,\n",
       " 6: 76000.0,\n",
       " 6.5: 69000.0,\n",
       " 7.5: 76000.0,\n",
       " 2.5: 60000.0,\n",
       " 10: 83000.0,\n",
       " 1.9: 48000.0,\n",
       " 4.2: 63000.0}"
      ]
     },
     "execution_count": 73,
     "metadata": {},
     "output_type": "execute_result"
    }
   ],
   "source": [
    "average_salary_by_tenure"
   ]
  },
  {
   "cell_type": "code",
   "execution_count": 66,
   "id": "07d0320e",
   "metadata": {},
   "outputs": [],
   "source": [
    "def tenure_bucket(tenure):\n",
    "    if tenure <2:\n",
    "        return \"Less Than Two\"\n",
    "    elif tenure <5:\n",
    "        return \"Between two and Five\"\n",
    "    else:\n",
    "        return \"More than Five\""
   ]
  },
  {
   "cell_type": "markdown",
   "id": "04803e29",
   "metadata": {},
   "source": [
    "## Now, we can group salary corrosponding to each bucket"
   ]
  },
  {
   "cell_type": "code",
   "execution_count": 74,
   "id": "b8e26d1a",
   "metadata": {},
   "outputs": [],
   "source": [
    "## Keys are Tenure buckets and value are list of salaries for that buckets\n",
    "\n",
    "salary_by_tenure_bucket = defaultdict(list)\n",
    "\n",
    "for salary,tenure in salaries_and_tenures:\n",
    "    bucket = tenure_bucket(tenure)\n",
    "    salary_by_tenure_bucket[bucket].append(salary)"
   ]
  },
  {
   "cell_type": "code",
   "execution_count": 75,
   "id": "a08685c7",
   "metadata": {},
   "outputs": [
    {
     "data": {
      "text/plain": [
       "defaultdict(list,\n",
       "            {'More than Five': [83000, 88000, 76000, 69000, 76000, 83000],\n",
       "             'Less Than Two': [48000, 48000],\n",
       "             'Between two and Five': [60000, 63000]})"
      ]
     },
     "execution_count": 75,
     "metadata": {},
     "output_type": "execute_result"
    }
   ],
   "source": [
    "salary_by_tenure_bucket"
   ]
  },
  {
   "cell_type": "markdown",
   "id": "c55a4c0f",
   "metadata": {},
   "source": [
    "## Finally Compute Average Salary for each Group"
   ]
  },
  {
   "cell_type": "code",
   "execution_count": 76,
   "id": "c8c369fb",
   "metadata": {},
   "outputs": [],
   "source": [
    "## Keys are Tenure buckets and values are average salary for that bucket\n",
    "\n",
    "average_salary_by_bucket = {\n",
    "    tenure_bucket: sum(salaries)/len(salaries)\n",
    "    for tenure_bucket, salaries in salary_by_tenure_bucket.items()\n",
    "    \n",
    "}"
   ]
  },
  {
   "cell_type": "code",
   "execution_count": 77,
   "id": "1a1024f3",
   "metadata": {},
   "outputs": [
    {
     "data": {
      "text/plain": [
       "{'More than Five': 79166.66666666667,\n",
       " 'Less Than Two': 48000.0,\n",
       " 'Between two and Five': 61500.0}"
      ]
     },
     "execution_count": 77,
     "metadata": {},
     "output_type": "execute_result"
    }
   ],
   "source": [
    "average_salary_by_bucket"
   ]
  },
  {
   "cell_type": "code",
   "execution_count": null,
   "id": "f9afb83d",
   "metadata": {},
   "outputs": [],
   "source": []
  }
 ],
 "metadata": {
  "kernelspec": {
   "display_name": "Python 3 (ipykernel)",
   "language": "python",
   "name": "python3"
  },
  "language_info": {
   "codemirror_mode": {
    "name": "ipython",
    "version": 3
   },
   "file_extension": ".py",
   "mimetype": "text/x-python",
   "name": "python",
   "nbconvert_exporter": "python",
   "pygments_lexer": "ipython3",
   "version": "3.10.9"
  }
 },
 "nbformat": 4,
 "nbformat_minor": 5
}
